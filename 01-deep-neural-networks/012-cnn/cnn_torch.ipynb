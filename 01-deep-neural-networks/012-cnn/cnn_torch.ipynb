{
  "nbformat": 4,
  "nbformat_minor": 0,
  "metadata": {
    "colab": {
      "provenance": [],
      "machine_shape": "hm",
      "authorship_tag": "ABX9TyO/sTE/qcaWiggshSGAlhSH",
      "include_colab_link": true
    },
    "kernelspec": {
      "name": "python3",
      "display_name": "Python 3"
    },
    "language_info": {
      "name": "python"
    }
  },
  "cells": [
    {
      "cell_type": "markdown",
      "metadata": {
        "id": "view-in-github",
        "colab_type": "text"
      },
      "source": [
        "<a href=\"https://colab.research.google.com/github/ahitagnied/deep-learning/blob/main/01-deep-neural-networks/012-cnn/cnn_torch.ipynb\" target=\"_parent\"><img src=\"https://colab.research.google.com/assets/colab-badge.svg\" alt=\"Open In Colab\"/></a>"
      ]
    },
    {
      "cell_type": "markdown",
      "source": [
        "### Implemending a CNN using PyTorch"
      ],
      "metadata": {
        "id": "C5VUAeq98ILL"
      }
    },
    {
      "cell_type": "markdown",
      "source": [
        "### Prepare MNIST Data"
      ],
      "metadata": {
        "id": "HKfH24DDCIpX"
      }
    },
    {
      "cell_type": "code",
      "source": [
        "import torch\n",
        "import torch.nn as nn\n",
        "import torch.nn.functional as F\n",
        "from torch.utils.data import DataLoader\n",
        "from torchvision import datasets, transforms\n",
        "from torchvision.utils import make_grid\n",
        "\n",
        "import numpy as np\n",
        "import pandas as pd\n",
        "import matplotlib.pyplot as plt\n",
        "from sklearn.metrics import confusion_matrix\n",
        "%matplotlib inline"
      ],
      "metadata": {
        "id": "vRYDMFCfwfpR"
      },
      "execution_count": 5,
      "outputs": []
    },
    {
      "cell_type": "code",
      "source": [
        "# Data Preprocessing\n",
        "transform = transforms.ToTensor()\n",
        "\n",
        "train = datasets.MNIST(root='/mnist_data', train=True, download=True, transform=transform)\n",
        "test = datasets.MNIST(root='/mnist_data', train=False, download=True, transform=transform)"
      ],
      "metadata": {
        "collapsed": true,
        "id": "neWZfQhkDoyX",
        "colab": {
          "base_uri": "https://localhost:8080/"
        },
        "outputId": "24ce4d37-7476-4002-ec11-45b29ca14a62"
      },
      "execution_count": 2,
      "outputs": [
        {
          "output_type": "stream",
          "name": "stdout",
          "text": [
            "Downloading http://yann.lecun.com/exdb/mnist/train-images-idx3-ubyte.gz\n",
            "Failed to download (trying next):\n",
            "HTTP Error 403: Forbidden\n",
            "\n",
            "Downloading https://ossci-datasets.s3.amazonaws.com/mnist/train-images-idx3-ubyte.gz\n",
            "Downloading https://ossci-datasets.s3.amazonaws.com/mnist/train-images-idx3-ubyte.gz to /mnist_data/MNIST/raw/train-images-idx3-ubyte.gz\n"
          ]
        },
        {
          "output_type": "stream",
          "name": "stderr",
          "text": [
            "100%|██████████| 9.91M/9.91M [00:00<00:00, 32.7MB/s]\n"
          ]
        },
        {
          "output_type": "stream",
          "name": "stdout",
          "text": [
            "Extracting /mnist_data/MNIST/raw/train-images-idx3-ubyte.gz to /mnist_data/MNIST/raw\n",
            "\n",
            "Downloading http://yann.lecun.com/exdb/mnist/train-labels-idx1-ubyte.gz\n",
            "Failed to download (trying next):\n",
            "HTTP Error 403: Forbidden\n",
            "\n",
            "Downloading https://ossci-datasets.s3.amazonaws.com/mnist/train-labels-idx1-ubyte.gz\n",
            "Downloading https://ossci-datasets.s3.amazonaws.com/mnist/train-labels-idx1-ubyte.gz to /mnist_data/MNIST/raw/train-labels-idx1-ubyte.gz\n"
          ]
        },
        {
          "output_type": "stream",
          "name": "stderr",
          "text": [
            "100%|██████████| 28.9k/28.9k [00:00<00:00, 1.26MB/s]\n"
          ]
        },
        {
          "output_type": "stream",
          "name": "stdout",
          "text": [
            "Extracting /mnist_data/MNIST/raw/train-labels-idx1-ubyte.gz to /mnist_data/MNIST/raw\n",
            "\n",
            "Downloading http://yann.lecun.com/exdb/mnist/t10k-images-idx3-ubyte.gz\n",
            "Failed to download (trying next):\n",
            "HTTP Error 403: Forbidden\n",
            "\n",
            "Downloading https://ossci-datasets.s3.amazonaws.com/mnist/t10k-images-idx3-ubyte.gz\n",
            "Downloading https://ossci-datasets.s3.amazonaws.com/mnist/t10k-images-idx3-ubyte.gz to /mnist_data/MNIST/raw/t10k-images-idx3-ubyte.gz\n"
          ]
        },
        {
          "output_type": "stream",
          "name": "stderr",
          "text": [
            "100%|██████████| 1.65M/1.65M [00:00<00:00, 10.4MB/s]\n"
          ]
        },
        {
          "output_type": "stream",
          "name": "stdout",
          "text": [
            "Extracting /mnist_data/MNIST/raw/t10k-images-idx3-ubyte.gz to /mnist_data/MNIST/raw\n",
            "\n",
            "Downloading http://yann.lecun.com/exdb/mnist/t10k-labels-idx1-ubyte.gz\n",
            "Failed to download (trying next):\n",
            "HTTP Error 403: Forbidden\n",
            "\n",
            "Downloading https://ossci-datasets.s3.amazonaws.com/mnist/t10k-labels-idx1-ubyte.gz\n",
            "Downloading https://ossci-datasets.s3.amazonaws.com/mnist/t10k-labels-idx1-ubyte.gz to /mnist_data/MNIST/raw/t10k-labels-idx1-ubyte.gz\n"
          ]
        },
        {
          "output_type": "stream",
          "name": "stderr",
          "text": [
            "100%|██████████| 4.54k/4.54k [00:00<00:00, 6.58MB/s]"
          ]
        },
        {
          "output_type": "stream",
          "name": "stdout",
          "text": [
            "Extracting /mnist_data/MNIST/raw/t10k-labels-idx1-ubyte.gz to /mnist_data/MNIST/raw\n",
            "\n"
          ]
        },
        {
          "output_type": "stream",
          "name": "stderr",
          "text": [
            "\n"
          ]
        }
      ]
    },
    {
      "cell_type": "code",
      "source": [
        "# Create batch sizes of 10\n",
        "train_loader = DataLoader(train, batch_size=10, shuffle='True')\n",
        "test_loader = DataLoader(test, batch_size=10, shuffle='False')\n",
        "\n",
        "# CNN Model\n",
        "class CNN(nn.Module):\n",
        "  def __init__(self):\n",
        "    super().__init__()\n",
        "    self.conv1 = nn.Conv2d(1, 6, 3, 1) # Gives out Image: 6, 1, 26, 26; 28-3+1 = 26 -> max pool -> 6, 1, 13, 13\n",
        "    self.conv2 = nn.Conv2d(6, 16, 3, 1) # Image: 13-3+1=11; 16, 1, 11, 11 -> max pool -> 16, 1, 5, 5\n",
        "    self.fc1 = nn.Linear(16*5*5, 120)\n",
        "    self.fc2 = nn.Linear(120, 60)\n",
        "    self.fc3 = nn.Linear(60, 10)\n",
        "\n",
        "  def forward(self, x):\n",
        "    x = F.relu(self.conv1(x))\n",
        "    x = F.max_pool2d(x, 2, 2) # 2x2 kernel, stride = 2\n",
        "    x = F.relu(self.conv2(x))\n",
        "    x = F.max_pool2d(x, 2, 2) # 2x2 kernel, stride = 2\n",
        "\n",
        "    # Reshape into a column vector\n",
        "    x = x.view(-1, 16*5*5)\n",
        "\n",
        "    # Dense Layer\n",
        "    x = F.relu(self.fc1(x))\n",
        "    x = F.relu(self.fc2(x))\n",
        "    x = self.fc3(x)\n",
        "    x = F.log_softmax(x, dim=1)\n",
        "    return x\n"
      ],
      "metadata": {
        "id": "aGiSRdZvNnOm"
      },
      "execution_count": 3,
      "outputs": []
    },
    {
      "cell_type": "code",
      "source": [
        "# Create Model\n",
        "torch.manual_seed(40)\n",
        "n = CNN()\n",
        "\n",
        "# Learning Rate\n",
        "lr = 0.001\n",
        "\n",
        "# Loss Function\n",
        "lf = nn.CrossEntropyLoss()\n",
        "opt = torch.optim.Adam(n.parameters(), lr)"
      ],
      "metadata": {
        "id": "uyL8rsA3Vwso"
      },
      "execution_count": 6,
      "outputs": []
    },
    {
      "cell_type": "code",
      "source": [
        "import time\n",
        "start = time.time()\n",
        "\n",
        "# Track loss\n",
        "epochs = 2\n",
        "trainl = []\n",
        "\n",
        "# For each epoch\n",
        "for i in range(epochs):\n",
        "  # Train\n",
        "  for b, (x, y) in enumerate(train_loader):\n",
        "    y_pred = n(x)\n",
        "    loss = lf(y_pred, y)\n",
        "\n",
        "    opt.zero_grad() # Set all grads to 0 to be updated after BP\n",
        "\n",
        "    # BP\n",
        "    loss.backward()\n",
        "    opt.step() # Update weights\n",
        "\n",
        "    # Updates\n",
        "    if b%1000 == 0:\n",
        "      print(f\"Epoch: {i}, Batch: {b}, Training Loss: {loss.item()}\")\n",
        "      trainl.append(loss.item())\n",
        "\n",
        "end = time.time()\n",
        "total = end - start\n",
        "print(f\"Time taken: {total}\")"
      ],
      "metadata": {
        "colab": {
          "base_uri": "https://localhost:8080/"
        },
        "id": "LsMQsVZqWqOc",
        "outputId": "a7851e6c-d4db-4189-981c-2e0a526c4bfe"
      },
      "execution_count": 7,
      "outputs": [
        {
          "output_type": "stream",
          "name": "stdout",
          "text": [
            "Epoch: 0, Batch: 0, Training Loss: 2.3198745250701904\n",
            "Epoch: 0, Batch: 1000, Training Loss: 0.502090573310852\n",
            "Epoch: 0, Batch: 2000, Training Loss: 0.16022777557373047\n",
            "Epoch: 0, Batch: 3000, Training Loss: 0.12845169007778168\n",
            "Epoch: 0, Batch: 4000, Training Loss: 0.1453227698802948\n",
            "Epoch: 0, Batch: 5000, Training Loss: 0.0016330620273947716\n",
            "Epoch: 1, Batch: 0, Training Loss: 0.0016360139707103372\n",
            "Epoch: 1, Batch: 1000, Training Loss: 0.08351545035839081\n",
            "Epoch: 1, Batch: 2000, Training Loss: 0.21594469249248505\n",
            "Epoch: 1, Batch: 3000, Training Loss: 0.005539056845009327\n",
            "Epoch: 1, Batch: 4000, Training Loss: 0.01715340092778206\n",
            "Epoch: 1, Batch: 5000, Training Loss: 0.03869563341140747\n",
            "Time taken: 110.64871573448181\n"
          ]
        }
      ]
    },
    {
      "cell_type": "code",
      "source": [
        "# Plot Training Loss\n",
        "plt.figure(figsize=(4, 3), dpi=200)\n",
        "plt.plot(trainl)\n",
        "plt.xticks(fontsize=8); plt.yticks(fontsize=8)\n",
        "plt.title(\"Training Loss\")\n",
        "plt.xlabel(\"Batch\", fontsize=10)\n",
        "plt.ylabel(\"Loss\", fontsize=10)\n",
        "plt.show()\n",
        "\n",
        "# Testing\n",
        "with torch.no_grad():\n",
        "  for b, (x, y) in enumerate(test_loader):\n",
        "    y_pred = n(x)\n",
        "    loss = lf(y_pred, y)\n",
        "\n",
        "    if b%100 == 0:\n",
        "      print(f\"Batch: {b}, Testing Loss: {loss.item()}\")"
      ],
      "metadata": {
        "colab": {
          "base_uri": "https://localhost:8080/",
          "height": 819
        },
        "id": "Z_xZqZk9gQY_",
        "outputId": "aa5f5593-8c18-4279-dacc-3a7b7381f95e"
      },
      "execution_count": 8,
      "outputs": [
        {
          "output_type": "display_data",
          "data": {
            "text/plain": [
              "<Figure size 800x600 with 1 Axes>"
            ],
            "image/png": "[encoded data removed]"
          },
          "metadata": {}
        },
        {
          "output_type": "stream",
          "name": "stdout",
          "text": [
            "Batch: 0, Testing Loss: 0.00013357705029193312\n",
            "Batch: 100, Testing Loss: 4.6699864469701424e-05\n",
            "Batch: 200, Testing Loss: 0.000987155712209642\n",
            "Batch: 300, Testing Loss: 0.0015499619767069817\n",
            "Batch: 400, Testing Loss: 0.0011525541776791215\n",
            "Batch: 500, Testing Loss: 0.002367983106523752\n",
            "Batch: 600, Testing Loss: 0.006639258004724979\n",
            "Batch: 700, Testing Loss: 0.020423198118805885\n",
            "Batch: 800, Testing Loss: 0.05326796695590019\n",
            "Batch: 900, Testing Loss: 0.05564747378230095\n"
          ]
        }
      ]
    },
    {
      "cell_type": "code",
      "source": [
        "x = test[100][0].reshape(28, 28)\n",
        "plt.imshow(x, cmap='gray')\n",
        "plt.show()"
      ],
      "metadata": {
        "colab": {
          "base_uri": "https://localhost:8080/",
          "height": 430
        },
        "id": "AKPXD3Svy4KM",
        "outputId": "4cc9c77b-0c44-4f6a-d3ba-b8a0aba9e884"
      },
      "execution_count": 14,
      "outputs": [
        {
          "output_type": "display_data",
          "data": {
            "text/plain": [
              "<Figure size 640x480 with 1 Axes>"
            ],
            "image/png": "[encoded data removed]"
          },
          "metadata": {}
        }
      ]
    },
    {
      "cell_type": "code",
      "source": [
        "# Predict the outcome\n",
        "n.eval()\n",
        "with torch.no_grad():\n",
        "  y_pred = n(test[100][0].reshape(1, 1, 28, 28))\n",
        "  print(torch.argmax(y_pred))"
      ],
      "metadata": {
        "colab": {
          "base_uri": "https://localhost:8080/"
        },
        "id": "nUYfGtRsnACs",
        "outputId": "600322ef-0ec3-4032-81e9-484e57169500"
      },
      "execution_count": 15,
      "outputs": [
        {
          "output_type": "stream",
          "name": "stdout",
          "text": [
            "tensor(6)\n"
          ]
        }
      ]
    }
  ]
}