{
  "nbformat": 4,
  "nbformat_minor": 0,
  "metadata": {
    "colab": {
      "provenance": [],
      "gpuType": "T4",
      "authorship_tag": "ABX9TyOFOieDXZzmqtl1XYdt2vKw",
      "include_colab_link": true
    },
    "kernelspec": {
      "name": "python3",
      "display_name": "Python 3"
    },
    "language_info": {
      "name": "python"
    },
    "accelerator": "GPU"
  },
  "cells": [
    {
      "cell_type": "markdown",
      "metadata": {
        "id": "view-in-github",
        "colab_type": "text"
      },
      "source": [
        "<a href=\"https://colab.research.google.com/github/ahitagnied/deep-learning/blob/main/01-deep-neural-networks/012-cnn/cnn_torch.ipynb\" target=\"_parent\"><img src=\"https://colab.research.google.com/assets/colab-badge.svg\" alt=\"Open In Colab\"/></a>"
      ]
    },
    {
      "cell_type": "markdown",
      "source": [
        "### Implemending a CNN using PyTorch"
      ],
      "metadata": {
        "id": "C5VUAeq98ILL"
      }
    },
    {
      "cell_type": "markdown",
      "source": [
        "### Prepare MNIST Data"
      ],
      "metadata": {
        "id": "HKfH24DDCIpX"
      }
    },
    {
      "cell_type": "code",
      "source": [
        "import torch.nn as nn\n",
        "import torch.nn.functional as F\n",
        "from torch.utils.data import DataLoader\n",
        "from torchvision import datasets, transforms\n",
        "from torchvision.utils import make_grid\n",
        "\n",
        "import numpy as np\n",
        "import pandas as pd\n",
        "import matplotlib.pyplot as plt\n",
        "from sklearn.metrics import confusion_matrix\n",
        "%matplotlib inline"
      ],
      "metadata": {
        "id": "vRYDMFCfwfpR"
      },
      "execution_count": 99,
      "outputs": []
    },
    {
      "cell_type": "code",
      "source": [
        "# Data Preprocessing\n",
        "transform = transforms.ToTensor()\n",
        "\n",
        "train = datasets.MNIST(root='/mnist_data', train=True, download=True, transform=transform)\n",
        "test = datasets.MNIST(root='/mnist_data', train=False, download=True, transform=transform)"
      ],
      "metadata": {
        "collapsed": true,
        "id": "neWZfQhkDoyX"
      },
      "execution_count": 100,
      "outputs": []
    },
    {
      "cell_type": "code",
      "source": [
        "# Create batch sizes of 10\n",
        "train_loader = DataLoader(train, batch_size=10, shuffle='True')\n",
        "test_loader = DataLoader(test, batch_size=10, shuffle='False')\n",
        "\n",
        "# CNN Model\n",
        "class CNN(nn.Module):\n",
        "  def __init__(self):\n",
        "    super().__init__()\n",
        "    self.conv1 = nn.Conv2d(1, 6, 3, 1) # Gives out Image: 6, 1, 26, 26; 28-3+1 = 26 -> max pool -> 6, 1, 13, 13\n",
        "    self.conv2 = nn.Conv2d(6, 16, 3, 1) # Image: 13-3+1=11; 16, 1, 11, 11 -> max pool -> 16, 1, 5, 5\n",
        "    self.fc1 = nn.Linear(16*5*5, 120)\n",
        "    self.fc2 = nn.Linear(120, 60)\n",
        "    self.fc3 = nn.Linear(60, 10)\n",
        "\n",
        "  def forward(self, x):\n",
        "    x = F.relu(self.conv1(x))\n",
        "    x = F.max_pool2d(x, 2, 2) # 2x2 kernel, stride = 2\n",
        "    x = F.relu(self.conv2(x))\n",
        "    x = F.max_pool2d(x, 2, 2) # 2x2 kernel, stride = 2\n",
        "\n",
        "    # Reshape into a column vector\n",
        "    x = x.view(-1, 16*5*5)\n",
        "\n",
        "    # Dense Layer\n",
        "    x = F.relu(self.fc1(x))\n",
        "    x = F.relu(self.fc2(x))\n",
        "    x = self.fc3(x)\n",
        "    x = F.log_softmax(x, dim=1)\n",
        "    return x\n"
      ],
      "metadata": {
        "id": "aGiSRdZvNnOm"
      },
      "execution_count": 101,
      "outputs": []
    },
    {
      "cell_type": "code",
      "source": [
        "# Create Model\n",
        "torch.manual_seed(40)\n",
        "n = CNN()\n",
        "\n",
        "# Learning Rate\n",
        "lr = 0.001\n",
        "\n",
        "# Loss Function\n",
        "lf = nn.CrossEntropyLoss()\n",
        "opt = torch.optim.Adam(n.parameters(), lr)"
      ],
      "metadata": {
        "id": "uyL8rsA3Vwso"
      },
      "execution_count": 119,
      "outputs": []
    },
    {
      "cell_type": "code",
      "source": [
        "import time\n",
        "start = time.time()\n",
        "\n",
        "# Track loss\n",
        "epochs = 2\n",
        "trainl = []\n",
        "\n",
        "# For each epoch\n",
        "for i in range(epochs):\n",
        "  # Train\n",
        "  for b, (x, y) in enumerate(train_loader):\n",
        "    y_pred = n(x)\n",
        "    loss = lf(y_pred, y)\n",
        "\n",
        "    opt.zero_grad() # Set all grads to 0 to be updated after BP\n",
        "\n",
        "    # BP\n",
        "    loss.backward()\n",
        "    opt.step() # Update weights\n",
        "\n",
        "    # Updates\n",
        "    if b%1000 == 0:\n",
        "      print(f\"Epoch: {i}, Batch: {b}, Training Loss: {loss.item()}\")\n",
        "      trainl.append(loss.item())\n",
        "\n",
        "end = time.time()\n",
        "total = end - start\n",
        "print(f\"Time taken: {total}\")"
      ],
      "metadata": {
        "colab": {
          "base_uri": "https://localhost:8080/"
        },
        "id": "LsMQsVZqWqOc",
        "outputId": "1b98335f-df0e-485b-f110-ee7976613c63"
      },
      "execution_count": 120,
      "outputs": [
        {
          "output_type": "stream",
          "name": "stdout",
          "text": [
            "Epoch: 0, Batch: 0, Training Loss: 2.3198745250701904\n",
            "Epoch: 0, Batch: 1000, Training Loss: 0.45245361328125\n",
            "Epoch: 0, Batch: 2000, Training Loss: 0.17323723435401917\n",
            "Epoch: 0, Batch: 3000, Training Loss: 0.06723577529191971\n",
            "Epoch: 0, Batch: 4000, Training Loss: 0.08883165568113327\n",
            "Epoch: 0, Batch: 5000, Training Loss: 0.0014088158495724201\n",
            "Epoch: 1, Batch: 0, Training Loss: 0.0018037337576970458\n",
            "Epoch: 1, Batch: 1000, Training Loss: 0.09600308537483215\n",
            "Epoch: 1, Batch: 2000, Training Loss: 0.2813270092010498\n",
            "Epoch: 1, Batch: 3000, Training Loss: 0.009981262497603893\n",
            "Epoch: 1, Batch: 4000, Training Loss: 0.006299096159636974\n",
            "Epoch: 1, Batch: 5000, Training Loss: 0.0443774089217186\n",
            "Time taken: 67.34832167625427\n"
          ]
        }
      ]
    },
    {
      "cell_type": "code",
      "source": [
        "# Plot Training Loss\n",
        "plt.figure(figsize=(4, 3), dpi=200)\n",
        "plt.plot(trainl)\n",
        "plt.xticks(fontsize=8); plt.yticks(fontsize=8)\n",
        "plt.title(\"Training Loss\")\n",
        "plt.xlabel(\"Batch\", fontsize=10)\n",
        "plt.ylabel(\"Loss\", fontsize=10)\n",
        "plt.show()\n",
        "\n",
        "# Testing\n",
        "with torch.no_grad():\n",
        "  for b, (x, y) in enumerate(test_loader):\n",
        "    y_pred = n(x)\n",
        "    loss = lf(y_pred, y)\n",
        "\n",
        "    if b%100 == 0:\n",
        "      print(f\"Batch: {b}, Testing Loss: {loss.item()}\")"
      ],
      "metadata": {
        "colab": {
          "base_uri": "https://localhost:8080/",
          "height": 819
        },
        "id": "Z_xZqZk9gQY_",
        "outputId": "dbd59e08-ba1b-46bd-bcf0-084e39994d50"
      },
      "execution_count": 129,
      "outputs": [
        {
          "output_type": "display_data",
          "data": {
            "text/plain": [
              "<Figure size 800x600 with 1 Axes>"
            ],
            "image/png": "[encoded data removed]"
          },
          "metadata": {}
        },
        {
          "output_type": "stream",
          "name": "stdout",
          "text": [
            "Batch: 0, Testing Loss: 0.0052336049266159534\n",
            "Batch: 100, Testing Loss: 0.010681739076972008\n",
            "Batch: 200, Testing Loss: 0.0023234908003360033\n",
            "Batch: 300, Testing Loss: 0.1285923570394516\n",
            "Batch: 400, Testing Loss: 0.0007946905680000782\n",
            "Batch: 500, Testing Loss: 0.14031417667865753\n",
            "Batch: 600, Testing Loss: 4.580419772537425e-05\n",
            "Batch: 700, Testing Loss: 0.0015969120431691408\n",
            "Batch: 800, Testing Loss: 0.00013993409811519086\n",
            "Batch: 900, Testing Loss: 0.027278071269392967\n"
          ]
        }
      ]
    }
  ]
}