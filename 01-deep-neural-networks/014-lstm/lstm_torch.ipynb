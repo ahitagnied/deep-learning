{
  "nbformat": 4,
  "nbformat_minor": 0,
  "metadata": {
    "colab": {
      "provenance": [],
      "authorship_tag": "ABX9TyMu23/Zc3cg+LazRxJpq7Zy",
      "include_colab_link": true
    },
    "kernelspec": {
      "name": "python3",
      "display_name": "Python 3"
    },
    "language_info": {
      "name": "python"
    }
  },
  "cells": [
    {
      "cell_type": "markdown",
      "metadata": {
        "id": "view-in-github",
        "colab_type": "text"
      },
      "source": [
        "<a href=\"https://colab.research.google.com/github/ahitagnied/deep-learning/blob/main/01-deep-neural-networks/014-lstm/lstm_torch.ipynb\" target=\"_parent\"><img src=\"https://colab.research.google.com/assets/colab-badge.svg\" alt=\"Open In Colab\"/></a>"
      ]
    },
    {
      "cell_type": "code",
      "execution_count": 287,
      "metadata": {
        "id": "pBVT5UqOGxaI"
      },
      "outputs": [],
      "source": [
        "import numpy as np\n",
        "import pandas as pd\n",
        "\n",
        "import torch\n",
        "import torch.nn as nn\n",
        "\n",
        "import matplotlib.pyplot as plt\n",
        "%matplotlib inline"
      ]
    },
    {
      "cell_type": "code",
      "source": [
        "df = pd.read_csv('AMZN.csv')\n",
        "df = df[['Date', 'Close']]\n",
        "df['Date'] = pd.to_datetime(df['Date'])\n",
        "df.head()"
      ],
      "metadata": {
        "colab": {
          "base_uri": "https://localhost:8080/",
          "height": 206
        },
        "id": "v4U7GvL-HCtT",
        "outputId": "c7c9c7eb-9aec-4c34-f425-e19692e01835"
      },
      "execution_count": 288,
      "outputs": [
        {
          "output_type": "execute_result",
          "data": {
            "text/plain": [
              "        Date     Close\n",
              "0 1997-05-15  0.097917\n",
              "1 1997-05-16  0.086458\n",
              "2 1997-05-19  0.085417\n",
              "3 1997-05-20  0.081771\n",
              "4 1997-05-21  0.071354"
            ],
            "text/html": [
              "\n",
              "  <div id=\"df-2c3fb52a-7480-4b49-9670-d861e115d403\" class=\"colab-df-container\">\n",
              "    <div>\n",
              "<style scoped>\n",
              "    .dataframe tbody tr th:only-of-type {\n",
              "        vertical-align: middle;\n",
              "    }\n",
              "\n",
              "    .dataframe tbody tr th {\n",
              "        vertical-align: top;\n",
              "    }\n",
              "\n",
              "    .dataframe thead th {\n",
              "        text-align: right;\n",
              "    }\n",
              "</style>\n",
              "<table border=\"1\" class=\"dataframe\">\n",
              "  <thead>\n",
              "    <tr style=\"text-align: right;\">\n",
              "      <th></th>\n",
              "      <th>Date</th>\n",
              "      <th>Close</th>\n",
              "    </tr>\n",
              "  </thead>\n",
              "  <tbody>\n",
              "    <tr>\n",
              "      <th>0</th>\n",
              "      <td>1997-05-15</td>\n",
              "      <td>0.097917</td>\n",
              "    </tr>\n",
              "    <tr>\n",
              "      <th>1</th>\n",
              "      <td>1997-05-16</td>\n",
              "      <td>0.086458</td>\n",
              "    </tr>\n",
              "    <tr>\n",
              "      <th>2</th>\n",
              "      <td>1997-05-19</td>\n",
              "      <td>0.085417</td>\n",
              "    </tr>\n",
              "    <tr>\n",
              "      <th>3</th>\n",
              "      <td>1997-05-20</td>\n",
              "      <td>0.081771</td>\n",
              "    </tr>\n",
              "    <tr>\n",
              "      <th>4</th>\n",
              "      <td>1997-05-21</td>\n",
              "      <td>0.071354</td>\n",
              "    </tr>\n",
              "  </tbody>\n",
              "</table>\n",
              "</div>\n",
              "    <div class=\"colab-df-buttons\">\n",
              "\n",
              "  <div class=\"colab-df-container\">\n",
              "    <button class=\"colab-df-convert\" onclick=\"convertToInteractive('df-2c3fb52a-7480-4b49-9670-d861e115d403')\"\n",
              "            title=\"Convert this dataframe to an interactive table.\"\n",
              "            style=\"display:none;\">\n",
              "\n",
              "  <svg xmlns=\"http://www.w3.org/2000/svg\" height=\"24px\" viewBox=\"0 -960 960 960\">\n",
              "    <path d=\"M120-120v-720h720v720H120Zm60-500h600v-160H180v160Zm220 220h160v-160H400v160Zm0 220h160v-160H400v160ZM180-400h160v-160H180v160Zm440 0h160v-160H620v160ZM180-180h160v-160H180v160Zm440 0h160v-160H620v160Z\"/>\n",
              "  </svg>\n",
              "    </button>\n",
              "\n",
              "  <style>\n",
              "    .colab-df-container {\n",
              "      display:flex;\n",
              "      gap: 12px;\n",
              "    }\n",
              "\n",
              "    .colab-df-convert {\n",
              "      background-color: #E8F0FE;\n",
              "      border: none;\n",
              "      border-radius: 50%;\n",
              "      cursor: pointer;\n",
              "      display: none;\n",
              "      fill: #1967D2;\n",
              "      height: 32px;\n",
              "      padding: 0 0 0 0;\n",
              "      width: 32px;\n",
              "    }\n",
              "\n",
              "    .colab-df-convert:hover {\n",
              "      background-color: #E2EBFA;\n",
              "      box-shadow: 0px 1px 2px rgba(60, 64, 67, 0.3), 0px 1px 3px 1px rgba(60, 64, 67, 0.15);\n",
              "      fill: #174EA6;\n",
              "    }\n",
              "\n",
              "    .colab-df-buttons div {\n",
              "      margin-bottom: 4px;\n",
              "    }\n",
              "\n",
              "    [theme=dark] .colab-df-convert {\n",
              "      background-color: #3B4455;\n",
              "      fill: #D2E3FC;\n",
              "    }\n",
              "\n",
              "    [theme=dark] .colab-df-convert:hover {\n",
              "      background-color: #434B5C;\n",
              "      box-shadow: 0px 1px 3px 1px rgba(0, 0, 0, 0.15);\n",
              "      filter: drop-shadow(0px 1px 2px rgba(0, 0, 0, 0.3));\n",
              "      fill: #FFFFFF;\n",
              "    }\n",
              "  </style>\n",
              "\n",
              "    <script>\n",
              "      const buttonEl =\n",
              "        document.querySelector('#df-2c3fb52a-7480-4b49-9670-d861e115d403 button.colab-df-convert');\n",
              "      buttonEl.style.display =\n",
              "        google.colab.kernel.accessAllowed ? 'block' : 'none';\n",
              "\n",
              "      async function convertToInteractive(key) {\n",
              "        const element = document.querySelector('#df-2c3fb52a-7480-4b49-9670-d861e115d403');\n",
              "        const dataTable =\n",
              "          await google.colab.kernel.invokeFunction('convertToInteractive',\n",
              "                                                    [key], {});\n",
              "        if (!dataTable) return;\n",
              "\n",
              "        const docLinkHtml = 'Like what you see? Visit the ' +\n",
              "          '<a target=\"_blank\" href=https://colab.research.google.com/notebooks/data_table.ipynb>data table notebook</a>'\n",
              "          + ' to learn more about interactive tables.';\n",
              "        element.innerHTML = '';\n",
              "        dataTable['output_type'] = 'display_data';\n",
              "        await google.colab.output.renderOutput(dataTable, element);\n",
              "        const docLink = document.createElement('div');\n",
              "        docLink.innerHTML = docLinkHtml;\n",
              "        element.appendChild(docLink);\n",
              "      }\n",
              "    </script>\n",
              "  </div>\n",
              "\n",
              "\n",
              "<div id=\"df-988f3ba8-b9c8-40fe-9399-27f89690c18b\">\n",
              "  <button class=\"colab-df-quickchart\" onclick=\"quickchart('df-988f3ba8-b9c8-40fe-9399-27f89690c18b')\"\n",
              "            title=\"Suggest charts\"\n",
              "            style=\"display:none;\">\n",
              "\n",
              "<svg xmlns=\"http://www.w3.org/2000/svg\" height=\"24px\"viewBox=\"0 0 24 24\"\n",
              "     width=\"24px\">\n",
              "    <g>\n",
              "        <path d=\"M19 3H5c-1.1 0-2 .9-2 2v14c0 1.1.9 2 2 2h14c1.1 0 2-.9 2-2V5c0-1.1-.9-2-2-2zM9 17H7v-7h2v7zm4 0h-2V7h2v10zm4 0h-2v-4h2v4z\"/>\n",
              "    </g>\n",
              "</svg>\n",
              "  </button>\n",
              "\n",
              "<style>\n",
              "  .colab-df-quickchart {\n",
              "      --bg-color: #E8F0FE;\n",
              "      --fill-color: #1967D2;\n",
              "      --hover-bg-color: #E2EBFA;\n",
              "      --hover-fill-color: #174EA6;\n",
              "      --disabled-fill-color: #AAA;\n",
              "      --disabled-bg-color: #DDD;\n",
              "  }\n",
              "\n",
              "  [theme=dark] .colab-df-quickchart {\n",
              "      --bg-color: #3B4455;\n",
              "      --fill-color: #D2E3FC;\n",
              "      --hover-bg-color: #434B5C;\n",
              "      --hover-fill-color: #FFFFFF;\n",
              "      --disabled-bg-color: #3B4455;\n",
              "      --disabled-fill-color: #666;\n",
              "  }\n",
              "\n",
              "  .colab-df-quickchart {\n",
              "    background-color: var(--bg-color);\n",
              "    border: none;\n",
              "    border-radius: 50%;\n",
              "    cursor: pointer;\n",
              "    display: none;\n",
              "    fill: var(--fill-color);\n",
              "    height: 32px;\n",
              "    padding: 0;\n",
              "    width: 32px;\n",
              "  }\n",
              "\n",
              "  .colab-df-quickchart:hover {\n",
              "    background-color: var(--hover-bg-color);\n",
              "    box-shadow: 0 1px 2px rgba(60, 64, 67, 0.3), 0 1px 3px 1px rgba(60, 64, 67, 0.15);\n",
              "    fill: var(--button-hover-fill-color);\n",
              "  }\n",
              "\n",
              "  .colab-df-quickchart-complete:disabled,\n",
              "  .colab-df-quickchart-complete:disabled:hover {\n",
              "    background-color: var(--disabled-bg-color);\n",
              "    fill: var(--disabled-fill-color);\n",
              "    box-shadow: none;\n",
              "  }\n",
              "\n",
              "  .colab-df-spinner {\n",
              "    border: 2px solid var(--fill-color);\n",
              "    border-color: transparent;\n",
              "    border-bottom-color: var(--fill-color);\n",
              "    animation:\n",
              "      spin 1s steps(1) infinite;\n",
              "  }\n",
              "\n",
              "  @keyframes spin {\n",
              "    0% {\n",
              "      border-color: transparent;\n",
              "      border-bottom-color: var(--fill-color);\n",
              "      border-left-color: var(--fill-color);\n",
              "    }\n",
              "    20% {\n",
              "      border-color: transparent;\n",
              "      border-left-color: var(--fill-color);\n",
              "      border-top-color: var(--fill-color);\n",
              "    }\n",
              "    30% {\n",
              "      border-color: transparent;\n",
              "      border-left-color: var(--fill-color);\n",
              "      border-top-color: var(--fill-color);\n",
              "      border-right-color: var(--fill-color);\n",
              "    }\n",
              "    40% {\n",
              "      border-color: transparent;\n",
              "      border-right-color: var(--fill-color);\n",
              "      border-top-color: var(--fill-color);\n",
              "    }\n",
              "    60% {\n",
              "      border-color: transparent;\n",
              "      border-right-color: var(--fill-color);\n",
              "    }\n",
              "    80% {\n",
              "      border-color: transparent;\n",
              "      border-right-color: var(--fill-color);\n",
              "      border-bottom-color: var(--fill-color);\n",
              "    }\n",
              "    90% {\n",
              "      border-color: transparent;\n",
              "      border-bottom-color: var(--fill-color);\n",
              "    }\n",
              "  }\n",
              "</style>\n",
              "\n",
              "  <script>\n",
              "    async function quickchart(key) {\n",
              "      const quickchartButtonEl =\n",
              "        document.querySelector('#' + key + ' button');\n",
              "      quickchartButtonEl.disabled = true;  // To prevent multiple clicks.\n",
              "      quickchartButtonEl.classList.add('colab-df-spinner');\n",
              "      try {\n",
              "        const charts = await google.colab.kernel.invokeFunction(\n",
              "            'suggestCharts', [key], {});\n",
              "      } catch (error) {\n",
              "        console.error('Error during call to suggestCharts:', error);\n",
              "      }\n",
              "      quickchartButtonEl.classList.remove('colab-df-spinner');\n",
              "      quickchartButtonEl.classList.add('colab-df-quickchart-complete');\n",
              "    }\n",
              "    (() => {\n",
              "      let quickchartButtonEl =\n",
              "        document.querySelector('#df-988f3ba8-b9c8-40fe-9399-27f89690c18b button');\n",
              "      quickchartButtonEl.style.display =\n",
              "        google.colab.kernel.accessAllowed ? 'block' : 'none';\n",
              "    })();\n",
              "  </script>\n",
              "</div>\n",
              "\n",
              "    </div>\n",
              "  </div>\n"
            ],
            "application/vnd.google.colaboratory.intrinsic+json": {
              "type": "dataframe",
              "variable_name": "df",
              "summary": "{\n  \"name\": \"df\",\n  \"rows\": 6516,\n  \"fields\": [\n    {\n      \"column\": \"Date\",\n      \"properties\": {\n        \"dtype\": \"date\",\n        \"min\": \"1997-05-15 00:00:00\",\n        \"max\": \"2023-04-05 00:00:00\",\n        \"num_unique_values\": 6516,\n        \"samples\": [\n          \"2020-12-11 00:00:00\",\n          \"2004-10-25 00:00:00\",\n          \"2001-05-07 00:00:00\"\n        ],\n        \"semantic_type\": \"\",\n        \"description\": \"\"\n      }\n    },\n    {\n      \"column\": \"Close\",\n      \"properties\": {\n        \"dtype\": \"number\",\n        \"std\": 48.060258291749946,\n        \"min\": 0.069792,\n        \"max\": 186.570496,\n        \"num_unique_values\": 5899,\n        \"samples\": [\n          133.220001,\n          1.8475,\n          2.3005\n        ],\n        \"semantic_type\": \"\",\n        \"description\": \"\"\n      }\n    }\n  ]\n}"
            }
          },
          "metadata": {},
          "execution_count": 288
        }
      ]
    },
    {
      "cell_type": "code",
      "source": [
        "plt.plot(df['Date'], df['Close'])\n",
        "plt.show()"
      ],
      "metadata": {
        "colab": {
          "base_uri": "https://localhost:8080/",
          "height": 430
        },
        "id": "xZIdbH4cH4iD",
        "outputId": "1b673649-f48c-4083-9580-7a8c1a14295e"
      },
      "execution_count": 289,
      "outputs": [
        {
          "output_type": "display_data",
          "data": {
            "text/plain": [
              "<Figure size 640x480 with 1 Axes>"
            ],
            "image/png": "[encoded data removed]"
          },
          "metadata": {}
        }
      ]
    },
    {
      "cell_type": "code",
      "source": [
        "# First create your base dataframe\n",
        "data = df.iloc[7:].reset_index(drop=True)  # Reset index after slicing, and drop old index labels\n",
        "\n",
        "# Then add lagged columns\n",
        "for i in range(6, -1, -1):\n",
        "    col = df['Close'].iloc[i:].reset_index(drop=True)  # Reset index here too\n",
        "    data[f\"Close(t-{7-i})\"] = col\n",
        "\n",
        "data.head()"
      ],
      "metadata": {
        "colab": {
          "base_uri": "https://localhost:8080/",
          "height": 206
        },
        "id": "zOI8JJiaJvLC",
        "outputId": "dbe2dde4-27b3-482d-c32f-c5bef30b3065"
      },
      "execution_count": 290,
      "outputs": [
        {
          "output_type": "execute_result",
          "data": {
            "text/plain": [
              "        Date     Close  Close(t-1)  Close(t-2)  Close(t-3)  Close(t-4)  \\\n",
              "0 1997-05-27  0.079167    0.075000    0.069792    0.071354    0.081771   \n",
              "1 1997-05-28  0.076563    0.079167    0.075000    0.069792    0.071354   \n",
              "2 1997-05-29  0.075260    0.076563    0.079167    0.075000    0.069792   \n",
              "3 1997-05-30  0.075000    0.075260    0.076563    0.079167    0.075000   \n",
              "4 1997-06-02  0.075521    0.075000    0.075260    0.076563    0.079167   \n",
              "\n",
              "   Close(t-5)  Close(t-6)  Close(t-7)  \n",
              "0    0.085417    0.086458    0.097917  \n",
              "1    0.081771    0.085417    0.086458  \n",
              "2    0.071354    0.081771    0.085417  \n",
              "3    0.069792    0.071354    0.081771  \n",
              "4    0.075000    0.069792    0.071354  "
            ],
            "text/html": [
              "\n",
              "  <div id=\"df-e69859d2-e325-4bb5-9d96-c37e6bfe45bf\" class=\"colab-df-container\">\n",
              "    <div>\n",
              "<style scoped>\n",
              "    .dataframe tbody tr th:only-of-type {\n",
              "        vertical-align: middle;\n",
              "    }\n",
              "\n",
              "    .dataframe tbody tr th {\n",
              "        vertical-align: top;\n",
              "    }\n",
              "\n",
              "    .dataframe thead th {\n",
              "        text-align: right;\n",
              "    }\n",
              "</style>\n",
              "<table border=\"1\" class=\"dataframe\">\n",
              "  <thead>\n",
              "    <tr style=\"text-align: right;\">\n",
              "      <th></th>\n",
              "      <th>Date</th>\n",
              "      <th>Close</th>\n",
              "      <th>Close(t-1)</th>\n",
              "      <th>Close(t-2)</th>\n",
              "      <th>Close(t-3)</th>\n",
              "      <th>Close(t-4)</th>\n",
              "      <th>Close(t-5)</th>\n",
              "      <th>Close(t-6)</th>\n",
              "      <th>Close(t-7)</th>\n",
              "    </tr>\n",
              "  </thead>\n",
              "  <tbody>\n",
              "    <tr>\n",
              "      <th>0</th>\n",
              "      <td>1997-05-27</td>\n",
              "      <td>0.079167</td>\n",
              "      <td>0.075000</td>\n",
              "      <td>0.069792</td>\n",
              "      <td>0.071354</td>\n",
              "      <td>0.081771</td>\n",
              "      <td>0.085417</td>\n",
              "      <td>0.086458</td>\n",
              "      <td>0.097917</td>\n",
              "    </tr>\n",
              "    <tr>\n",
              "      <th>1</th>\n",
              "      <td>1997-05-28</td>\n",
              "      <td>0.076563</td>\n",
              "      <td>0.079167</td>\n",
              "      <td>0.075000</td>\n",
              "      <td>0.069792</td>\n",
              "      <td>0.071354</td>\n",
              "      <td>0.081771</td>\n",
              "      <td>0.085417</td>\n",
              "      <td>0.086458</td>\n",
              "    </tr>\n",
              "    <tr>\n",
              "      <th>2</th>\n",
              "      <td>1997-05-29</td>\n",
              "      <td>0.075260</td>\n",
              "      <td>0.076563</td>\n",
              "      <td>0.079167</td>\n",
              "      <td>0.075000</td>\n",
              "      <td>0.069792</td>\n",
              "      <td>0.071354</td>\n",
              "      <td>0.081771</td>\n",
              "      <td>0.085417</td>\n",
              "    </tr>\n",
              "    <tr>\n",
              "      <th>3</th>\n",
              "      <td>1997-05-30</td>\n",
              "      <td>0.075000</td>\n",
              "      <td>0.075260</td>\n",
              "      <td>0.076563</td>\n",
              "      <td>0.079167</td>\n",
              "      <td>0.075000</td>\n",
              "      <td>0.069792</td>\n",
              "      <td>0.071354</td>\n",
              "      <td>0.081771</td>\n",
              "    </tr>\n",
              "    <tr>\n",
              "      <th>4</th>\n",
              "      <td>1997-06-02</td>\n",
              "      <td>0.075521</td>\n",
              "      <td>0.075000</td>\n",
              "      <td>0.075260</td>\n",
              "      <td>0.076563</td>\n",
              "      <td>0.079167</td>\n",
              "      <td>0.075000</td>\n",
              "      <td>0.069792</td>\n",
              "      <td>0.071354</td>\n",
              "    </tr>\n",
              "  </tbody>\n",
              "</table>\n",
              "</div>\n",
              "    <div class=\"colab-df-buttons\">\n",
              "\n",
              "  <div class=\"colab-df-container\">\n",
              "    <button class=\"colab-df-convert\" onclick=\"convertToInteractive('df-e69859d2-e325-4bb5-9d96-c37e6bfe45bf')\"\n",
              "            title=\"Convert this dataframe to an interactive table.\"\n",
              "            style=\"display:none;\">\n",
              "\n",
              "  <svg xmlns=\"http://www.w3.org/2000/svg\" height=\"24px\" viewBox=\"0 -960 960 960\">\n",
              "    <path d=\"M120-120v-720h720v720H120Zm60-500h600v-160H180v160Zm220 220h160v-160H400v160Zm0 220h160v-160H400v160ZM180-400h160v-160H180v160Zm440 0h160v-160H620v160ZM180-180h160v-160H180v160Zm440 0h160v-160H620v160Z\"/>\n",
              "  </svg>\n",
              "    </button>\n",
              "\n",
              "  <style>\n",
              "    .colab-df-container {\n",
              "      display:flex;\n",
              "      gap: 12px;\n",
              "    }\n",
              "\n",
              "    .colab-df-convert {\n",
              "      background-color: #E8F0FE;\n",
              "      border: none;\n",
              "      border-radius: 50%;\n",
              "      cursor: pointer;\n",
              "      display: none;\n",
              "      fill: #1967D2;\n",
              "      height: 32px;\n",
              "      padding: 0 0 0 0;\n",
              "      width: 32px;\n",
              "    }\n",
              "\n",
              "    .colab-df-convert:hover {\n",
              "      background-color: #E2EBFA;\n",
              "      box-shadow: 0px 1px 2px rgba(60, 64, 67, 0.3), 0px 1px 3px 1px rgba(60, 64, 67, 0.15);\n",
              "      fill: #174EA6;\n",
              "    }\n",
              "\n",
              "    .colab-df-buttons div {\n",
              "      margin-bottom: 4px;\n",
              "    }\n",
              "\n",
              "    [theme=dark] .colab-df-convert {\n",
              "      background-color: #3B4455;\n",
              "      fill: #D2E3FC;\n",
              "    }\n",
              "\n",
              "    [theme=dark] .colab-df-convert:hover {\n",
              "      background-color: #434B5C;\n",
              "      box-shadow: 0px 1px 3px 1px rgba(0, 0, 0, 0.15);\n",
              "      filter: drop-shadow(0px 1px 2px rgba(0, 0, 0, 0.3));\n",
              "      fill: #FFFFFF;\n",
              "    }\n",
              "  </style>\n",
              "\n",
              "    <script>\n",
              "      const buttonEl =\n",
              "        document.querySelector('#df-e69859d2-e325-4bb5-9d96-c37e6bfe45bf button.colab-df-convert');\n",
              "      buttonEl.style.display =\n",
              "        google.colab.kernel.accessAllowed ? 'block' : 'none';\n",
              "\n",
              "      async function convertToInteractive(key) {\n",
              "        const element = document.querySelector('#df-e69859d2-e325-4bb5-9d96-c37e6bfe45bf');\n",
              "        const dataTable =\n",
              "          await google.colab.kernel.invokeFunction('convertToInteractive',\n",
              "                                                    [key], {});\n",
              "        if (!dataTable) return;\n",
              "\n",
              "        const docLinkHtml = 'Like what you see? Visit the ' +\n",
              "          '<a target=\"_blank\" href=https://colab.research.google.com/notebooks/data_table.ipynb>data table notebook</a>'\n",
              "          + ' to learn more about interactive tables.';\n",
              "        element.innerHTML = '';\n",
              "        dataTable['output_type'] = 'display_data';\n",
              "        await google.colab.output.renderOutput(dataTable, element);\n",
              "        const docLink = document.createElement('div');\n",
              "        docLink.innerHTML = docLinkHtml;\n",
              "        element.appendChild(docLink);\n",
              "      }\n",
              "    </script>\n",
              "  </div>\n",
              "\n",
              "\n",
              "<div id=\"df-5b75c633-343f-4182-878d-8589a57d32de\">\n",
              "  <button class=\"colab-df-quickchart\" onclick=\"quickchart('df-5b75c633-343f-4182-878d-8589a57d32de')\"\n",
              "            title=\"Suggest charts\"\n",
              "            style=\"display:none;\">\n",
              "\n",
              "<svg xmlns=\"http://www.w3.org/2000/svg\" height=\"24px\"viewBox=\"0 0 24 24\"\n",
              "     width=\"24px\">\n",
              "    <g>\n",
              "        <path d=\"M19 3H5c-1.1 0-2 .9-2 2v14c0 1.1.9 2 2 2h14c1.1 0 2-.9 2-2V5c0-1.1-.9-2-2-2zM9 17H7v-7h2v7zm4 0h-2V7h2v10zm4 0h-2v-4h2v4z\"/>\n",
              "    </g>\n",
              "</svg>\n",
              "  </button>\n",
              "\n",
              "<style>\n",
              "  .colab-df-quickchart {\n",
              "      --bg-color: #E8F0FE;\n",
              "      --fill-color: #1967D2;\n",
              "      --hover-bg-color: #E2EBFA;\n",
              "      --hover-fill-color: #174EA6;\n",
              "      --disabled-fill-color: #AAA;\n",
              "      --disabled-bg-color: #DDD;\n",
              "  }\n",
              "\n",
              "  [theme=dark] .colab-df-quickchart {\n",
              "      --bg-color: #3B4455;\n",
              "      --fill-color: #D2E3FC;\n",
              "      --hover-bg-color: #434B5C;\n",
              "      --hover-fill-color: #FFFFFF;\n",
              "      --disabled-bg-color: #3B4455;\n",
              "      --disabled-fill-color: #666;\n",
              "  }\n",
              "\n",
              "  .colab-df-quickchart {\n",
              "    background-color: var(--bg-color);\n",
              "    border: none;\n",
              "    border-radius: 50%;\n",
              "    cursor: pointer;\n",
              "    display: none;\n",
              "    fill: var(--fill-color);\n",
              "    height: 32px;\n",
              "    padding: 0;\n",
              "    width: 32px;\n",
              "  }\n",
              "\n",
              "  .colab-df-quickchart:hover {\n",
              "    background-color: var(--hover-bg-color);\n",
              "    box-shadow: 0 1px 2px rgba(60, 64, 67, 0.3), 0 1px 3px 1px rgba(60, 64, 67, 0.15);\n",
              "    fill: var(--button-hover-fill-color);\n",
              "  }\n",
              "\n",
              "  .colab-df-quickchart-complete:disabled,\n",
              "  .colab-df-quickchart-complete:disabled:hover {\n",
              "    background-color: var(--disabled-bg-color);\n",
              "    fill: var(--disabled-fill-color);\n",
              "    box-shadow: none;\n",
              "  }\n",
              "\n",
              "  .colab-df-spinner {\n",
              "    border: 2px solid var(--fill-color);\n",
              "    border-color: transparent;\n",
              "    border-bottom-color: var(--fill-color);\n",
              "    animation:\n",
              "      spin 1s steps(1) infinite;\n",
              "  }\n",
              "\n",
              "  @keyframes spin {\n",
              "    0% {\n",
              "      border-color: transparent;\n",
              "      border-bottom-color: var(--fill-color);\n",
              "      border-left-color: var(--fill-color);\n",
              "    }\n",
              "    20% {\n",
              "      border-color: transparent;\n",
              "      border-left-color: var(--fill-color);\n",
              "      border-top-color: var(--fill-color);\n",
              "    }\n",
              "    30% {\n",
              "      border-color: transparent;\n",
              "      border-left-color: var(--fill-color);\n",
              "      border-top-color: var(--fill-color);\n",
              "      border-right-color: var(--fill-color);\n",
              "    }\n",
              "    40% {\n",
              "      border-color: transparent;\n",
              "      border-right-color: var(--fill-color);\n",
              "      border-top-color: var(--fill-color);\n",
              "    }\n",
              "    60% {\n",
              "      border-color: transparent;\n",
              "      border-right-color: var(--fill-color);\n",
              "    }\n",
              "    80% {\n",
              "      border-color: transparent;\n",
              "      border-right-color: var(--fill-color);\n",
              "      border-bottom-color: var(--fill-color);\n",
              "    }\n",
              "    90% {\n",
              "      border-color: transparent;\n",
              "      border-bottom-color: var(--fill-color);\n",
              "    }\n",
              "  }\n",
              "</style>\n",
              "\n",
              "  <script>\n",
              "    async function quickchart(key) {\n",
              "      const quickchartButtonEl =\n",
              "        document.querySelector('#' + key + ' button');\n",
              "      quickchartButtonEl.disabled = true;  // To prevent multiple clicks.\n",
              "      quickchartButtonEl.classList.add('colab-df-spinner');\n",
              "      try {\n",
              "        const charts = await google.colab.kernel.invokeFunction(\n",
              "            'suggestCharts', [key], {});\n",
              "      } catch (error) {\n",
              "        console.error('Error during call to suggestCharts:', error);\n",
              "      }\n",
              "      quickchartButtonEl.classList.remove('colab-df-spinner');\n",
              "      quickchartButtonEl.classList.add('colab-df-quickchart-complete');\n",
              "    }\n",
              "    (() => {\n",
              "      let quickchartButtonEl =\n",
              "        document.querySelector('#df-5b75c633-343f-4182-878d-8589a57d32de button');\n",
              "      quickchartButtonEl.style.display =\n",
              "        google.colab.kernel.accessAllowed ? 'block' : 'none';\n",
              "    })();\n",
              "  </script>\n",
              "</div>\n",
              "\n",
              "    </div>\n",
              "  </div>\n"
            ],
            "application/vnd.google.colaboratory.intrinsic+json": {
              "type": "dataframe",
              "variable_name": "data",
              "summary": "{\n  \"name\": \"data\",\n  \"rows\": 6509,\n  \"fields\": [\n    {\n      \"column\": \"Date\",\n      \"properties\": {\n        \"dtype\": \"date\",\n        \"min\": \"1997-05-27 00:00:00\",\n        \"max\": \"2023-04-05 00:00:00\",\n        \"num_unique_values\": 6509,\n        \"samples\": [\n          \"2002-06-05 00:00:00\",\n          \"2013-02-07 00:00:00\",\n          \"2014-01-31 00:00:00\"\n        ],\n        \"semantic_type\": \"\",\n        \"description\": \"\"\n      }\n    },\n    {\n      \"column\": \"Close\",\n      \"properties\": {\n        \"dtype\": \"number\",\n        \"std\": 48.07497434062555,\n        \"min\": 0.070833,\n        \"max\": 186.570496,\n        \"num_unique_values\": 5893,\n        \"samples\": [\n          11.3005,\n          88.416496,\n          12.6685\n        ],\n        \"semantic_type\": \"\",\n        \"description\": \"\"\n      }\n    },\n    {\n      \"column\": \"Close(t-1)\",\n      \"properties\": {\n        \"dtype\": \"number\",\n        \"std\": 48.068851324210264,\n        \"min\": 0.070833,\n        \"max\": 186.570496,\n        \"num_unique_values\": 5892,\n        \"samples\": [\n          154.726501,\n          90.943001,\n          3.1215\n        ],\n        \"semantic_type\": \"\",\n        \"description\": \"\"\n      }\n    },\n    {\n      \"column\": \"Close(t-2)\",\n      \"properties\": {\n        \"dtype\": \"number\",\n        \"std\": 48.06207682563746,\n        \"min\": 0.069792,\n        \"max\": 186.570496,\n        \"num_unique_values\": 5892,\n        \"samples\": [\n          157.307007,\n          91.035004,\n          3.2235\n        ],\n        \"semantic_type\": \"\",\n        \"description\": \"\"\n      }\n    },\n    {\n      \"column\": \"Close(t-3)\",\n      \"properties\": {\n        \"dtype\": \"number\",\n        \"std\": 48.05564844925921,\n        \"min\": 0.069792,\n        \"max\": 186.570496,\n        \"num_unique_values\": 5892,\n        \"samples\": [\n          154.6465,\n          90.698997,\n          3.3925\n        ],\n        \"semantic_type\": \"\",\n        \"description\": \"\"\n      }\n    },\n    {\n      \"column\": \"Close(t-4)\",\n      \"properties\": {\n        \"dtype\": \"number\",\n        \"std\": 48.04901242686673,\n        \"min\": 0.069792,\n        \"max\": 186.570496,\n        \"num_unique_values\": 5892,\n        \"samples\": [\n          152.858002,\n          90.709503,\n          3.5435\n        ],\n        \"semantic_type\": \"\",\n        \"description\": \"\"\n      }\n    },\n    {\n      \"column\": \"Close(t-5)\",\n      \"properties\": {\n        \"dtype\": \"number\",\n        \"std\": 48.04266319641631,\n        \"min\": 0.069792,\n        \"max\": 186.570496,\n        \"num_unique_values\": 5892,\n        \"samples\": [\n          157.976501,\n          89.037498,\n          3.5845\n        ],\n        \"semantic_type\": \"\",\n        \"description\": \"\"\n      }\n    },\n    {\n      \"column\": \"Close(t-6)\",\n      \"properties\": {\n        \"dtype\": \"number\",\n        \"std\": 48.03669744551471,\n        \"min\": 0.069792,\n        \"max\": 186.570496,\n        \"num_unique_values\": 5892,\n        \"samples\": [\n          159.725006,\n          88.670998,\n          3.6635\n        ],\n        \"semantic_type\": \"\",\n        \"description\": \"\"\n      }\n    },\n    {\n      \"column\": \"Close(t-7)\",\n      \"properties\": {\n        \"dtype\": \"number\",\n        \"std\": 48.03137216153669,\n        \"min\": 0.069792,\n        \"max\": 186.570496,\n        \"num_unique_values\": 5892,\n        \"samples\": [\n          159.037003,\n          88.285004,\n          3.495\n        ],\n        \"semantic_type\": \"\",\n        \"description\": \"\"\n      }\n    }\n  ]\n}"
            }
          },
          "metadata": {},
          "execution_count": 290
        }
      ]
    },
    {
      "cell_type": "code",
      "source": [
        "data = data.iloc[:, 1:]"
      ],
      "metadata": {
        "id": "x-umaIAXxPSD"
      },
      "execution_count": 291,
      "outputs": []
    },
    {
      "cell_type": "code",
      "source": [
        "data = data.to_numpy()"
      ],
      "metadata": {
        "id": "rGcsf9OYNdSk"
      },
      "execution_count": 292,
      "outputs": []
    },
    {
      "cell_type": "code",
      "source": [
        "from sklearn.preprocessing import MinMaxScaler\n",
        "\n",
        "scaler = MinMaxScaler(feature_range=(-1, 1))\n",
        "data = scaler.fit_transform(data)"
      ],
      "metadata": {
        "id": "uH5sF2uK6sK9"
      },
      "execution_count": 293,
      "outputs": []
    },
    {
      "cell_type": "code",
      "source": [
        "print(data.shape)"
      ],
      "metadata": {
        "colab": {
          "base_uri": "https://localhost:8080/"
        },
        "id": "2AgsNPX7UNJQ",
        "outputId": "956cbc15-3266-4d77-9b6d-2230ed7c2f15"
      },
      "execution_count": 294,
      "outputs": [
        {
          "output_type": "stream",
          "name": "stdout",
          "text": [
            "(6509, 8)\n"
          ]
        }
      ]
    },
    {
      "cell_type": "code",
      "source": [
        "X = data[:, 1:]\n",
        "y = data[:, 0]\n",
        "X.shape, y.shape"
      ],
      "metadata": {
        "id": "WKe4U9uMUUaH",
        "colab": {
          "base_uri": "https://localhost:8080/"
        },
        "outputId": "b0fef628-5ba7-4d96-e061-c12f7c1d711f"
      },
      "execution_count": 295,
      "outputs": [
        {
          "output_type": "execute_result",
          "data": {
            "text/plain": [
              "((6509, 7), (6509,))"
            ]
          },
          "metadata": {},
          "execution_count": 295
        }
      ]
    },
    {
      "cell_type": "code",
      "source": [
        "X = np.flip(X, axis=1) # Fix X to be from oldest to newest data for LSTM\n",
        "X.shape"
      ],
      "metadata": {
        "colab": {
          "base_uri": "https://localhost:8080/"
        },
        "id": "yesby1E_UYtV",
        "outputId": "98b337e8-f632-45ec-81d7-78a89d11086e"
      },
      "execution_count": 296,
      "outputs": [
        {
          "output_type": "execute_result",
          "data": {
            "text/plain": [
              "(6509, 7)"
            ]
          },
          "metadata": {},
          "execution_count": 296
        }
      ]
    },
    {
      "cell_type": "code",
      "source": [
        "split_idx = int(len(X) * 0.95)"
      ],
      "metadata": {
        "id": "jbdaPbk1x9bm"
      },
      "execution_count": 297,
      "outputs": []
    },
    {
      "cell_type": "code",
      "source": [
        "xTrain = X[:split_idx]\n",
        "yTrain = y[:split_idx]\n",
        "xTest = X[split_idx:]\n",
        "yTest = y[split_idx:]\n",
        "\n",
        "xTrain.shape, xTest.shape, yTrain.shape, yTest.shape"
      ],
      "metadata": {
        "colab": {
          "base_uri": "https://localhost:8080/"
        },
        "id": "ikLEBTkGyL9M",
        "outputId": "0db7f1b4-1353-4c31-9411-f98d6d537694"
      },
      "execution_count": 298,
      "outputs": [
        {
          "output_type": "execute_result",
          "data": {
            "text/plain": [
              "((6183, 7), (326, 7), (6183,), (326,))"
            ]
          },
          "metadata": {},
          "execution_count": 298
        }
      ]
    },
    {
      "cell_type": "code",
      "source": [
        "# Convert numpy to tensor\n",
        "xtrain = xTrain.reshape((-1, 7, 1))\n",
        "xtest = xTest.reshape((-1, 7, 1))\n",
        "ytrain = yTrain.reshape((-1, 1))\n",
        "ytest = yTest.reshape((-1, 1))\n",
        "\n",
        "xtrain.shape, ytrain.shape, xtest.shape, ytest.shape"
      ],
      "metadata": {
        "colab": {
          "base_uri": "https://localhost:8080/"
        },
        "id": "lvx1KgJpyRQt",
        "outputId": "da200e4c-fc0c-4497-eee5-d9ed60c217e4"
      },
      "execution_count": 299,
      "outputs": [
        {
          "output_type": "execute_result",
          "data": {
            "text/plain": [
              "((6183, 7, 1), (6183, 1), (326, 7, 1), (326, 1))"
            ]
          },
          "metadata": {},
          "execution_count": 299
        }
      ]
    },
    {
      "cell_type": "code",
      "source": [
        "xtrain = torch.tensor(xtrain.copy()).float()\n",
        "ytrain = torch.tensor(ytrain).float()\n",
        "xtest = torch.tensor(xtest.copy()).float()\n",
        "ytest = torch.tensor(ytest).float()\n",
        "\n",
        "xtrain.shape, ytrain.shape, xtest.shape, ytest.shape"
      ],
      "metadata": {
        "colab": {
          "base_uri": "https://localhost:8080/"
        },
        "id": "ymG47ht7CdUA",
        "outputId": "f3af84a4-f007-4053-f699-e97e56b2d5af"
      },
      "execution_count": 300,
      "outputs": [
        {
          "output_type": "execute_result",
          "data": {
            "text/plain": [
              "(torch.Size([6183, 7, 1]),\n",
              " torch.Size([6183, 1]),\n",
              " torch.Size([326, 7, 1]),\n",
              " torch.Size([326, 1]))"
            ]
          },
          "metadata": {},
          "execution_count": 300
        }
      ]
    },
    {
      "cell_type": "code",
      "source": [
        "from torch.utils.data import Dataset\n",
        "\n",
        "# Make a dataset to pass into Dataloader\n",
        "class TimeSeriesData(Dataset):\n",
        "  def __init__(self, X, y):\n",
        "    self.x = X\n",
        "    self.y = y\n",
        "\n",
        "  def __len__(self):\n",
        "    return len(self.x)\n",
        "\n",
        "  def __getitem__(self, idx):\n",
        "    return self.x[idx], self.y[idx]\n",
        "\n",
        "train_set = TimeSeriesData(xtrain, ytrain)\n",
        "test_set = TimeSeriesData(xtest, ytest)"
      ],
      "metadata": {
        "id": "QVxgC-4BylF0"
      },
      "execution_count": 301,
      "outputs": []
    },
    {
      "cell_type": "code",
      "source": [
        "from torch.utils.data import DataLoader\n",
        "\n",
        "bs = 16\n",
        "\n",
        "train_loader = DataLoader(train_set, batch_size=bs, shuffle=True)\n",
        "test_loader = DataLoader(test_set, batch_size=bs, shuffle=False)"
      ],
      "metadata": {
        "id": "ZWK2lY7nzN5o"
      },
      "execution_count": 302,
      "outputs": []
    },
    {
      "cell_type": "code",
      "source": [
        "class LSTM(nn.Module):\n",
        "    def __init__(self, inputs, hiddens, num_stacked_layers, dropout=0.2):  # Add dropout\n",
        "        super().__init__()\n",
        "        self.hiddens = hiddens\n",
        "        self.num_stacked_layers = num_stacked_layers\n",
        "        self.lstm = nn.LSTM(inputs, hiddens, num_stacked_layers,\n",
        "                           batch_first=True,\n",
        "                           dropout=dropout)  # Add dropout between LSTM layers\n",
        "        self.linear = nn.Linear(hiddens, 1)\n",
        "\n",
        "    def forward(self, x):\n",
        "        h0 = torch.zeros(self.num_stacked_layers, x.size(0), self.hiddens).to(x.device)\n",
        "        c0 = torch.zeros(self.num_stacked_layers, x.size(0), self.hiddens).to(x.device)\n",
        "\n",
        "        x, _ = self.lstm(x, (h0, c0))\n",
        "        x = self.linear(x[:, -1, :])\n",
        "        return x\n",
        "\n",
        "# Reinitialize with dropout\n",
        "model = LSTM(1, 4, 1)\n",
        "\n",
        "device = 'cuda' if torch.cuda.is_available() else 'cpu'\n",
        "\n",
        "model.to(device)\n",
        "\n",
        "model"
      ],
      "metadata": {
        "colab": {
          "base_uri": "https://localhost:8080/"
        },
        "id": "CT06MUUUzi8c",
        "outputId": "1a13a11c-4b97-4244-b54f-fbcf74b90779"
      },
      "execution_count": 303,
      "outputs": [
        {
          "output_type": "stream",
          "name": "stderr",
          "text": [
            "/usr/local/lib/python3.10/dist-packages/torch/nn/modules/rnn.py:123: UserWarning: dropout option adds dropout after all but last recurrent layer, so non-zero dropout expects num_layers greater than 1, but got dropout=0.2 and num_layers=1\n",
            "  warnings.warn(\n"
          ]
        },
        {
          "output_type": "execute_result",
          "data": {
            "text/plain": [
              "LSTM(\n",
              "  (lstm): LSTM(1, 4, batch_first=True, dropout=0.2)\n",
              "  (linear): Linear(in_features=4, out_features=1, bias=True)\n",
              ")"
            ]
          },
          "metadata": {},
          "execution_count": 303
        }
      ]
    },
    {
      "cell_type": "code",
      "source": [
        "epochs = 40\n",
        "lr = 0.001\n",
        "optimiser = torch.optim.Adam(model.parameters(), lr)\n",
        "loss_fn = nn.MSELoss()\n",
        "\n",
        "# Lists to store loss history\n",
        "train_losses = []\n",
        "test_losses = []\n",
        "\n",
        "for epoch in range(epochs):\n",
        "    # Training phase\n",
        "    model.train()  # No need for train(True)\n",
        "    train_loss = 0\n",
        "    num_train_batches = 0\n",
        "\n",
        "    for x, y in train_loader:  # No need to track batch number manually\n",
        "        x = x.to(device)\n",
        "        y = y.to(device)\n",
        "\n",
        "        optimiser.zero_grad()\n",
        "        output = model(x)\n",
        "        loss = loss_fn(output, y)\n",
        "        loss.backward()\n",
        "        optimiser.step()\n",
        "\n",
        "        train_loss += loss.item()  # Use .item() to prevent memory leaks\n",
        "        num_train_batches += 1\n",
        "\n",
        "    avg_train_loss = train_loss / num_train_batches\n",
        "\n",
        "    # Testing phase\n",
        "    model.eval()  # Better than train(False)\n",
        "    test_loss = 0\n",
        "    num_test_batches = 0\n",
        "\n",
        "    with torch.no_grad():\n",
        "        for x, y in test_loader:\n",
        "            x = x.to(device)\n",
        "            y = y.to(device)\n",
        "\n",
        "            output = model(x)\n",
        "            loss = loss_fn(output, y)\n",
        "            test_loss += loss.item()\n",
        "            num_test_batches += 1\n",
        "\n",
        "    avg_test_loss = test_loss / num_test_batches\n",
        "\n",
        "    # Store losses\n",
        "    train_losses.append(avg_train_loss)\n",
        "    test_losses.append(avg_test_loss)\n",
        "\n",
        "    if epoch % 2 == 0:\n",
        "        print(f\"Epoch: {epoch:02d} | Train Loss: {avg_train_loss:.4f} | Test Loss: {avg_test_loss:.4f}\")\n",
        "\n",
        "# Optionally plot the learning curves\n",
        "import matplotlib.pyplot as plt\n",
        "\n",
        "plt.plot(train_losses, label='Training Loss')\n",
        "plt.plot(test_losses, label='Test Loss')\n",
        "plt.xlabel('Epoch')\n",
        "plt.ylabel('Loss')\n",
        "plt.title('Training and Test Loss Over Time')\n",
        "plt.grid(True)\n",
        "plt.show()"
      ],
      "metadata": {
        "colab": {
          "base_uri": "https://localhost:8080/",
          "height": 829
        },
        "id": "ICM1kK1E2mRK",
        "outputId": "f0535c8c-882c-4c7c-9186-ddda0e0a940d"
      },
      "execution_count": 304,
      "outputs": [
        {
          "output_type": "stream",
          "name": "stdout",
          "text": [
            "Epoch: 00 | Train Loss: 0.4353 | Test Loss: 0.1520\n",
            "Epoch: 02 | Train Loss: 0.0084 | Test Loss: 0.0200\n",
            "Epoch: 04 | Train Loss: 0.0019 | Test Loss: 0.0091\n",
            "Epoch: 06 | Train Loss: 0.0005 | Test Loss: 0.0092\n",
            "Epoch: 08 | Train Loss: 0.0004 | Test Loss: 0.0056\n",
            "Epoch: 10 | Train Loss: 0.0003 | Test Loss: 0.0043\n",
            "Epoch: 12 | Train Loss: 0.0003 | Test Loss: 0.0041\n",
            "Epoch: 14 | Train Loss: 0.0002 | Test Loss: 0.0033\n",
            "Epoch: 16 | Train Loss: 0.0002 | Test Loss: 0.0029\n",
            "Epoch: 18 | Train Loss: 0.0002 | Test Loss: 0.0030\n",
            "Epoch: 20 | Train Loss: 0.0002 | Test Loss: 0.0027\n",
            "Epoch: 22 | Train Loss: 0.0002 | Test Loss: 0.0024\n",
            "Epoch: 24 | Train Loss: 0.0002 | Test Loss: 0.0025\n",
            "Epoch: 26 | Train Loss: 0.0002 | Test Loss: 0.0021\n",
            "Epoch: 28 | Train Loss: 0.0002 | Test Loss: 0.0022\n",
            "Epoch: 30 | Train Loss: 0.0002 | Test Loss: 0.0022\n",
            "Epoch: 32 | Train Loss: 0.0001 | Test Loss: 0.0021\n",
            "Epoch: 34 | Train Loss: 0.0001 | Test Loss: 0.0019\n",
            "Epoch: 36 | Train Loss: 0.0001 | Test Loss: 0.0022\n",
            "Epoch: 38 | Train Loss: 0.0001 | Test Loss: 0.0021\n"
          ]
        },
        {
          "output_type": "display_data",
          "data": {
            "text/plain": [
              "<Figure size 640x480 with 1 Axes>"
            ],
            "image/png": "[encoded data removed]"
          },
          "metadata": {}
        }
      ]
    }
  ]
}